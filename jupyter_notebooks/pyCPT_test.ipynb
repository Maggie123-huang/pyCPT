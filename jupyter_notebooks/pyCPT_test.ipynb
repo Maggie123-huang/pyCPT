{
 "cells": [
  {
   "cell_type": "markdown",
   "metadata": {},
   "source": [
    "## Set the repository path"
   ]
  },
  {
   "cell_type": "code",
   "execution_count": null,
   "metadata": {},
   "outputs": [],
   "source": [
    "pyCPT_path = '../'"
   ]
  },
  {
   "cell_type": "markdown",
   "metadata": {},
   "source": [
    "## Import modules"
   ]
  },
  {
   "cell_type": "code",
   "execution_count": null,
   "metadata": {},
   "outputs": [],
   "source": [
    "# Add the repository path into python path\n",
    "import sys\n",
    "sys.path.append(pyCPT_path)\n",
    "\n",
    "# Import modules\n",
    "import pyCPT\n",
    "import post_process\n",
    "import numpy as np\n",
    "import matplotlib.pyplot as plt\n",
    "import copy"
   ]
  },
  {
   "cell_type": "markdown",
   "metadata": {},
   "source": [
    "## Read the NGES dataset\n",
    "#### Note: 1) Data file should contain 3 columns: ( depth, Fr, Qt ); 2) Data should start from the 1st row (i.e., no table head)."
   ]
  },
  {
   "cell_type": "code",
   "execution_count": null,
   "metadata": {},
   "outputs": [],
   "source": [
    "# By default, model selection using BIC is performed after loading the dataset.\n",
    "datapath = '../test_data/NGES_data.csv'\n",
    "cpt1 = pyCPT.CPT(datapath)"
   ]
  },
  {
   "cell_type": "code",
   "execution_count": null,
   "metadata": {},
   "outputs": [],
   "source": [
    "# creat a deep copy of the object cpt1 as cpt2 for later use.\n",
    "cpt2 = copy.deepcopy(cpt1)"
   ]
  },
  {
   "cell_type": "code",
   "execution_count": null,
   "metadata": {},
   "outputs": [],
   "source": [
    "# If explicitly turn off model selection option, no optimal number of cluster will be inferred.\n",
    "datapath = '../test_data/NGES_data.csv'\n",
    "cpt3 = pyCPT.CPT(datapath,do_model_selection=False)"
   ]
  },
  {
   "cell_type": "markdown",
   "metadata": {},
   "source": [
    "## Extract soil segments"
   ]
  },
  {
   "cell_type": "code",
   "execution_count": null,
   "metadata": {},
   "outputs": [],
   "source": [
    "# Scenario 1: No prior information is available, the proposal function uses the default parameters\n",
    "\n",
    "cpt1.segmentation(num_of_iter=200, start_iter=150)"
   ]
  },
  {
   "cell_type": "code",
   "execution_count": null,
   "metadata": {},
   "outputs": [],
   "source": [
    "# Scenario 2: No prior information is available, the proposal function uses the user defined parameters. The annealing strategy\n",
    "# is used during the MCMC sampling process.\n",
    "# r_anneal = finnal_jump_length / original_jump_length\n",
    "# anneal_start = the_start_iteration_number_of_annealing / total_number_of_iteration\n",
    "# anneal_end = the_end_iteration_number_of_annealing / total_number_of_iteration\n",
    "\n",
    "cpt2.segmentation(num_of_iter=200, start_iter=150,\n",
    "                  mu_jump_length=0.1,\n",
    "                  theta_jump_length=0.1, \n",
    "                  cov_volume_jump_length=0.1,\n",
    "                  r_anneal=0.1, anneal_start=0.5, anneal_end=0.75)"
   ]
  },
  {
   "cell_type": "code",
   "execution_count": null,
   "metadata": {},
   "outputs": [],
   "source": [
    "# Scenario 3: If prior information is available:\n",
    "# prior_mus : prior knowledge of the center of each cluster\n",
    "# prior_mu_cov : define the variability of the conter, each center corresponds to a value. (big: uncertain, small: certain)\n",
    "# prior_covs: prior knowledge of the covariance matrix of each cluster\n",
    "\n",
    "prior_mus = np.array([[0.3, 1.8],\n",
    "                      [0.47575528, 1.59408055],\n",
    "                      [0.2, 2.5],\n",
    "                      [0.63169082, 1.03545094],\n",
    "                      [0.78032598, 1.6645969 ],\n",
    "                      [0.72301104, 1.44057298],\n",
    "                      [0.36804063, 1.23878841]])\n",
    "\n",
    "prior_mu_cov = [100,10,100,10,10,10,10]\n",
    "\n",
    "prior_covs = np.array([[[0.1, 0],\n",
    "                        [0, 0.1]],\n",
    "\n",
    "                       [[0.1, 0],\n",
    "                        [0, 0.1]],\n",
    "\n",
    "                       [[0.1, 0],\n",
    "                        [0, 0.1]],\n",
    "\n",
    "                       [[0.1, 0],\n",
    "                        [0, 0.1]],\n",
    "\n",
    "                       [[0.1, 0],\n",
    "                        [0, 0.1]],\n",
    "\n",
    "                       [[0.1, 0],\n",
    "                        [0, 0.1]],\n",
    "\n",
    "                       [[0.1, 0],\n",
    "                        [0,  0.1]]])\n",
    "\n",
    "cpt3.segmentation(num_of_iter=200, start_iter=150, \n",
    "                  prior_mus=prior_mus, \n",
    "                  prior_mu_cov=prior_mu_cov,\n",
    "                  prior_covs=prior_covs, \n",
    "                  mu_jump_length=0.1,\n",
    "                  theta_jump_length=0.1, \n",
    "                  cov_volume_jump_length=0.1,\n",
    "                  r_anneal=0.1, anneal_start=0.5, anneal_end=0.75)"
   ]
  },
  {
   "cell_type": "markdown",
   "metadata": {},
   "source": [
    "## Soil interpretation"
   ]
  },
  {
   "cell_type": "code",
   "execution_count": null,
   "metadata": {},
   "outputs": [],
   "source": [
    "cpt1.detect_layers()\n",
    "cpt2.detect_layers()\n",
    "cpt3.detect_layers()"
   ]
  },
  {
   "cell_type": "markdown",
   "metadata": {},
   "source": [
    "## Visualization"
   ]
  },
  {
   "cell_type": "code",
   "execution_count": null,
   "metadata": {
    "scrolled": true
   },
   "outputs": [],
   "source": [
    "post_process.plot_feature(cpt1.element,xlabel=['Fr','Qt'], scatter=False) # show the CPT data\n",
    "post_process.plot_image(cpt1.element, cpt1.element.label_map_est) # show the spatial pattern\n",
    "pyCPT.mixture_plot_robertson_chart(cpt1, aspect=0.8) # show the statistical pattern\n",
    "pyCPT.plot_layers(cpt1) # show the soil layers"
   ]
  },
  {
   "cell_type": "code",
   "execution_count": null,
   "metadata": {
    "scrolled": true
   },
   "outputs": [],
   "source": [
    "post_process.plot_feature(cpt2.element,xlabel=['Fr','Qt'], scatter=False) # show the CPT data\n",
    "post_process.plot_image(cpt2.element, cpt2.element.label_map_est) # show the spatial pattern\n",
    "pyCPT.mixture_plot_robertson_chart(cpt2, aspect=0.8) # show the statistical pattern\n",
    "pyCPT.plot_layers(cpt2) # show the soil layers"
   ]
  },
  {
   "cell_type": "code",
   "execution_count": null,
   "metadata": {},
   "outputs": [],
   "source": [
    "post_process.plot_feature(cpt3.element,xlabel=['Fr','Qt'], scatter=False) # show the CPT data\n",
    "post_process.plot_image(cpt3.element, cpt3.element.label_map_est) # show the spatial pattern\n",
    "pyCPT.mixture_plot_robertson_chart(cpt3, aspect=0.8) # show the statistical pattern\n",
    "pyCPT.plot_layers(cpt3) # show the soil layers"
   ]
  },
  {
   "cell_type": "markdown",
   "metadata": {},
   "source": [
    "#### Identified issue: When you test the repository by using the on-line interactive binder version, some noise contour lines could show up in the contour plot on the Roberson chart. This is an identified issue and probabily related to the version of the package \"matplotlib\" in MyBinder.org. The colone version from the github repository does not have such behavior."
   ]
  },
  {
   "cell_type": "code",
   "execution_count": null,
   "metadata": {},
   "outputs": [],
   "source": [
    "# Diagnose plots\n",
    "num_of_iteration = len(cpt3.element.mus)\n",
    "\n",
    "plt.figure\n",
    "for k in range(7):\n",
    "    plt.plot([cpt3.element.mus[i][k,0] for i in range(num_of_iteration)], label=('C '+ str(k)))\n",
    "\n",
    "plt.xlim(1,num_of_iteration)\n",
    "plt.legend()\n",
    "plt.ylabel('mu_Fr')\n",
    "plt.xlabel('Iteration')\n",
    "plt.show()\n",
    "\n",
    "plt.figure\n",
    "for k in range(7):\n",
    "    plt.plot([cpt3.element.covs[i][k,0,0] for i in range(num_of_iteration)])\n",
    "\n",
    "plt.xlim(1,num_of_iteration)\n",
    "plt.ylabel('cov_00')\n",
    "plt.xlabel('Iteration')\n",
    "plt.show()"
   ]
  },
  {
   "cell_type": "code",
   "execution_count": null,
   "metadata": {},
   "outputs": [],
   "source": []
  }
 ],
 "metadata": {
  "kernelspec": {
   "display_name": "Python 3",
   "language": "python",
   "name": "python3"
  },
  "language_info": {
   "codemirror_mode": {
    "name": "ipython",
    "version": 3
   },
   "file_extension": ".py",
   "mimetype": "text/x-python",
   "name": "python",
   "nbconvert_exporter": "python",
   "pygments_lexer": "ipython3",
   "version": "3.7.0"
  }
 },
 "nbformat": 4,
 "nbformat_minor": 2
}
