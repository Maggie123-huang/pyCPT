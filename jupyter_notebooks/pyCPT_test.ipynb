{
 "cells": [
  {
   "cell_type": "markdown",
   "metadata": {},
   "source": [
    "## Set the repository path"
   ]
  },
  {
   "cell_type": "code",
   "execution_count": null,
   "metadata": {},
   "outputs": [],
   "source": [
    "pyCPT_path = '../'"
   ]
  },
  {
   "cell_type": "markdown",
   "metadata": {},
   "source": [
    "## Import modules"
   ]
  },
  {
   "cell_type": "code",
   "execution_count": null,
   "metadata": {},
   "outputs": [],
   "source": [
    "# Add the repository path into python path\n",
    "import sys\n",
    "sys.path.append(pyCPT_path)\n",
    "\n",
    "# Import modules\n",
    "import numpy as np\n",
    "import pyHMRF\n",
    "import pyCPT\n",
    "import post_process\n",
    "import pre_process"
   ]
  },
  {
   "cell_type": "markdown",
   "metadata": {},
   "source": [
    "## Read the NGES dataset"
   ]
  },
  {
   "cell_type": "code",
   "execution_count": null,
   "metadata": {},
   "outputs": [],
   "source": [
    "datapath = pyCPT_path + '/test_data/NGES_data.csv'\n",
    "cpt = pyCPT.read_cpt_data(datapath)\n",
    "print('Number of data points:  ' + str(cpt.phys_shp))"
   ]
  },
  {
   "cell_type": "markdown",
   "metadata": {},
   "source": [
    "## Identify the optimal number of soil states"
   ]
  },
  {
   "cell_type": "code",
   "execution_count": null,
   "metadata": {},
   "outputs": [],
   "source": [
    "# mod_sel : the model selection result, \n",
    "# mod_sel[0] = BIC list for different number of clusters\n",
    "# mod_sel[1] = the optimal number of clusters\n",
    "mod_sel = pre_process.model_selection(cpt.feat, 10, plot=True)"
   ]
  },
  {
   "cell_type": "markdown",
   "metadata": {},
   "source": [
    "## Extract soil segments"
   ]
  },
  {
   "cell_type": "code",
   "execution_count": null,
   "metadata": {},
   "outputs": [],
   "source": [
    "pyCPT.segmentation(cpt, n=200, n_labels=mod_sel[1], start_iter=100)"
   ]
  },
  {
   "cell_type": "markdown",
   "metadata": {},
   "source": [
    "## Soil interpretation"
   ]
  },
  {
   "cell_type": "code",
   "execution_count": null,
   "metadata": {},
   "outputs": [],
   "source": [
    "layer_info = pyCPT.detect_layers(cpt)"
   ]
  },
  {
   "cell_type": "markdown",
   "metadata": {},
   "source": [
    "## Visualization"
   ]
  },
  {
   "cell_type": "code",
   "execution_count": null,
   "metadata": {},
   "outputs": [],
   "source": [
    "post_process.plot_feature(cpt,xlabel=['Fr','Qt'], scatter=False) # show the CPT data\n",
    "post_process.plot_image(cpt, cpt.label_map_est) # show the spatial pattern\n",
    "pyCPT.mixture_plot_robertsonchart(cpt, aspect=0.8) # show the statistical pattern\n",
    "pyCPT.plot_layers(cpt, layer_info) # show the soil layers"
   ]
  }
 ],
 "metadata": {
  "kernelspec": {
   "display_name": "Python 3",
   "language": "python",
   "name": "python3"
  },
  "language_info": {
   "codemirror_mode": {
    "name": "ipython",
    "version": 3
   },
   "file_extension": ".py",
   "mimetype": "text/x-python",
   "name": "python",
   "nbconvert_exporter": "python",
   "pygments_lexer": "ipython3",
   "version": "3.6.4"
  }
 },
 "nbformat": 4,
 "nbformat_minor": 2
}
