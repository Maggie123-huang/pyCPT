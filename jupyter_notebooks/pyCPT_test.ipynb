{
 "cells": [
  {
   "cell_type": "markdown",
   "metadata": {},
   "source": [
    "## Set the repository path"
   ]
  },
  {
   "cell_type": "code",
   "execution_count": 1,
   "metadata": {},
   "outputs": [],
   "source": [
    "pyCPT_path = '../'"
   ]
  },
  {
   "cell_type": "markdown",
   "metadata": {},
   "source": [
    "## Import modules"
   ]
  },
  {
   "cell_type": "code",
   "execution_count": 2,
   "metadata": {},
   "outputs": [],
   "source": [
    "# Add the repository path into python path\n",
    "import sys\n",
    "sys.path.append(pyCPT_path)\n",
    "\n",
    "# Import modules\n",
    "import pyCPT\n",
    "import post_process\n",
    "import numpy as np"
   ]
  },
  {
   "cell_type": "markdown",
   "metadata": {},
   "source": [
    "## Read the NGES dataset\n",
    "#### Note: 1) Data file should contain 3 columns: ( depth, Fr, Qt ); 2) Data should start from the 1st row!"
   ]
  },
  {
   "cell_type": "code",
   "execution_count": null,
   "metadata": {},
   "outputs": [
    {
     "name": "stdout",
     "output_type": "stream",
     "text": [
      "Number of data points:  [296]\n",
      "Fitting model with number of components =  1\n",
      "Fitting model with number of components =  2\n",
      "Fitting model with number of components =  3\n",
      "Fitting model with number of components =  4\n"
     ]
    }
   ],
   "source": [
    "# By default, model selection using BIC is performed\n",
    "datapath = '../test_data/NGES_data.csv'\n",
    "cpt1 = pyCPT.CPT(datapath)"
   ]
  },
  {
   "cell_type": "code",
   "execution_count": null,
   "metadata": {},
   "outputs": [],
   "source": [
    "# If explicitly turn off model selection option, no optimal number of cluster will be inferred.\n",
    "datapath = '../test_data/NGES_data.csv'\n",
    "cpt2 = pyCPT.CPT(datapath,do_model_selection=False)"
   ]
  },
  {
   "cell_type": "markdown",
   "metadata": {},
   "source": [
    "## Extract soil segments"
   ]
  },
  {
   "cell_type": "code",
   "execution_count": null,
   "metadata": {},
   "outputs": [],
   "source": [
    "# if no prior information is available\n",
    "cpt1.segmentation(num_of_iter=200, start_iter=100)"
   ]
  },
  {
   "cell_type": "code",
   "execution_count": null,
   "metadata": {},
   "outputs": [],
   "source": [
    "# if prior information is available\n",
    "# prior knowledge of the center of each cluster\n",
    "prior_mu = np.array([[0.33136292, 1.78557301],\n",
    "       [0.72919072, 1.43888076],\n",
    "       [0.63045566, 1.04736416],\n",
    "       [0.46410682, 1.60826738],\n",
    "       [0.42322467, 2.35724374],\n",
    "       [0.77750357, 1.68469789],\n",
    "       [0.36149448, 1.24393027]])\n",
    "# the standard deviation of the center coordinates\n",
    "prior_mu_std = [1,1,2,1,2,1,2]\n",
    "# prior knowledge of the covariance matrix of each cluster\n",
    "prior_cov = np.array([[[ 0.00357893,  0.00191449],\n",
    "        [ 0.00191449,  0.00918239]],\n",
    "\n",
    "       [[ 0.00320906, -0.0018044 ],\n",
    "        [-0.0018044 ,  0.00400412]],\n",
    "\n",
    "       [[ 0.00131583,  0.00111102],\n",
    "        [ 0.00111102,  0.02355203]],\n",
    "\n",
    "       [[ 0.00573804, -0.00384005],\n",
    "        [-0.00384005,  0.00647612]],\n",
    "\n",
    "       [[ 0.03743975, -0.04114002],\n",
    "        [-0.04114002,  0.04935895]],\n",
    "\n",
    "       [[ 0.00114044,  0.00023517],\n",
    "        [ 0.00023517,  0.0260668 ]],\n",
    "\n",
    "       [[ 0.01394274, -0.02432719],\n",
    "        [-0.02432719,  0.04800507]]])"
   ]
  },
  {
   "cell_type": "code",
   "execution_count": null,
   "metadata": {
    "scrolled": false
   },
   "outputs": [],
   "source": [
    "cpt2.segmentation(num_of_iter=200, start_iter=100, prior_mu=prior_mu, prior_mu_std=prior_mu_std, prior_cov=prior_cov)"
   ]
  },
  {
   "cell_type": "markdown",
   "metadata": {},
   "source": [
    "## Soil interpretation"
   ]
  },
  {
   "cell_type": "code",
   "execution_count": null,
   "metadata": {},
   "outputs": [],
   "source": [
    "cpt1.detect_layers()\n",
    "cpt2.detect_layers()"
   ]
  },
  {
   "cell_type": "markdown",
   "metadata": {},
   "source": [
    "## Visualization"
   ]
  },
  {
   "cell_type": "code",
   "execution_count": null,
   "metadata": {},
   "outputs": [],
   "source": [
    "post_process.plot_feature(cpt1.element,xlabel=['Fr','Qt'], scatter=False) # show the CPT data\n",
    "post_process.plot_image(cpt1.element, cpt1.element.label_map_est) # show the spatial pattern\n",
    "pyCPT.mixture_plot_robertson_chart(cpt1, aspect=0.8) # show the statistical pattern\n",
    "pyCPT.plot_layers(cpt1) # show the soil layers"
   ]
  },
  {
   "cell_type": "code",
   "execution_count": null,
   "metadata": {},
   "outputs": [],
   "source": [
    "post_process.plot_feature(cpt2.element,xlabel=['Fr','Qt'], scatter=False) # show the CPT data\n",
    "post_process.plot_image(cpt2.element, cpt2.element.label_map_est) # show the spatial pattern\n",
    "pyCPT.mixture_plot_robertson_chart(cpt2, aspect=0.8) # show the statistical pattern\n",
    "pyCPT.plot_layers(cpt2) # show the soil layers"
   ]
  },
  {
   "cell_type": "markdown",
   "metadata": {},
   "source": [
    "#### Identified issue: When you test the repository by using the on-line interactive binder version, some noise contour lines could show up in the contour plot on the Roberson chart. This is an identified issue and probabily related to the version of the package \"matplotlib\" in MyBinder.org. The colone version from the github repository does not have such behavior."
   ]
  }
 ],
 "metadata": {
  "kernelspec": {
   "display_name": "Python 3",
   "language": "python",
   "name": "python3"
  },
  "language_info": {
   "codemirror_mode": {
    "name": "ipython",
    "version": 3
   },
   "file_extension": ".py",
   "mimetype": "text/x-python",
   "name": "python",
   "nbconvert_exporter": "python",
   "pygments_lexer": "ipython3",
   "version": "3.7.0"
  }
 },
 "nbformat": 4,
 "nbformat_minor": 2
}
